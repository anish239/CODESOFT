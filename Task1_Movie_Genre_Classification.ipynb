{
 "cells": [
  {
   "cell_type": "code",
   "execution_count": 18,
   "id": "26297e19-7d76-49c6-925f-8c63d94a6f62",
   "metadata": {},
   "outputs": [],
   "source": [
    "import pandas as pd \n",
    "import re\n",
    "import nltk\n",
    "from nltk.corpus import stopwords\n",
    "from nltk.stem import WordNetLemmatizer"
   ]
  },
  {
   "cell_type": "code",
   "execution_count": 5,
   "id": "085d7990-6003-44bc-b325-cb47f1eff283",
   "metadata": {},
   "outputs": [
    {
     "name": "stdout",
     "output_type": "stream",
     "text": [
      "train_df loaded successfully.\n",
      "test_df loaded successfully.\n",
      "test_data_sol loaded successfully\n"
     ]
    }
   ],
   "source": [
    "try:\n",
    "    train_df = pd.read_csv(\"train_data.txt\",sep = ':::',header = None,names = ['ID','Title','Genre','Description'],engine = 'python')\n",
    "    print(\"train_df loaded successfully.\")\n",
    "\n",
    "    test_df = pd.read_csv('test_data.txt',sep=':::',header = None,names=['ID','Title','Description'],engine = 'python')\n",
    "    print(\"test_df loaded successfully.\")\n",
    "\n",
    "    test_sol_df = pd.read_csv(\"test_data_solution.txt\",sep=':::',header = None,names=['ID','Title','Genre','Description'],engine='python')\n",
    "    print(\"test_data_sol loaded successfully\")\n",
    "\n",
    "except Error as e:\n",
    "    print(f\"Error\")"
   ]
  },
  {
   "cell_type": "code",
   "execution_count": 19,
   "id": "77072b54-93a0-4c37-b15a-7b8595a50713",
   "metadata": {},
   "outputs": [
    {
     "name": "stderr",
     "output_type": "stream",
     "text": [
      "[nltk_data] Downloading package punkt to\n",
      "[nltk_data]     C:\\Users\\Anish\\AppData\\Roaming\\nltk_data...\n",
      "[nltk_data]   Package punkt is already up-to-date!\n",
      "[nltk_data] Downloading package stopwords to\n",
      "[nltk_data]     C:\\Users\\Anish\\AppData\\Roaming\\nltk_data...\n",
      "[nltk_data]   Package stopwords is already up-to-date!\n",
      "[nltk_data] Downloading package wordnet to\n",
      "[nltk_data]     C:\\Users\\Anish\\AppData\\Roaming\\nltk_data...\n",
      "[nltk_data]   Package wordnet is already up-to-date!\n"
     ]
    },
    {
     "data": {
      "text/plain": [
       "True"
      ]
     },
     "execution_count": 19,
     "metadata": {},
     "output_type": "execute_result"
    }
   ],
   "source": [
    "nltk.download('punkt')\n",
    "nltk.download('stopwords')\n",
    "nltk.download('wordnet')"
   ]
  },
  {
   "cell_type": "code",
   "execution_count": 6,
   "id": "b9b72ba9-5039-4560-aebb-5ed095fac66a",
   "metadata": {},
   "outputs": [
    {
     "data": {
      "text/html": [
       "<div>\n",
       "<style scoped>\n",
       "    .dataframe tbody tr th:only-of-type {\n",
       "        vertical-align: middle;\n",
       "    }\n",
       "\n",
       "    .dataframe tbody tr th {\n",
       "        vertical-align: top;\n",
       "    }\n",
       "\n",
       "    .dataframe thead th {\n",
       "        text-align: right;\n",
       "    }\n",
       "</style>\n",
       "<table border=\"1\" class=\"dataframe\">\n",
       "  <thead>\n",
       "    <tr style=\"text-align: right;\">\n",
       "      <th></th>\n",
       "      <th>ID</th>\n",
       "      <th>Title</th>\n",
       "      <th>Genre</th>\n",
       "      <th>Description</th>\n",
       "    </tr>\n",
       "  </thead>\n",
       "  <tbody>\n",
       "    <tr>\n",
       "      <th>0</th>\n",
       "      <td>1</td>\n",
       "      <td>Oscar et la dame rose (2009)</td>\n",
       "      <td>drama</td>\n",
       "      <td>Listening in to a conversation between his do...</td>\n",
       "    </tr>\n",
       "    <tr>\n",
       "      <th>1</th>\n",
       "      <td>2</td>\n",
       "      <td>Cupid (1997)</td>\n",
       "      <td>thriller</td>\n",
       "      <td>A brother and sister with a past incestuous r...</td>\n",
       "    </tr>\n",
       "    <tr>\n",
       "      <th>2</th>\n",
       "      <td>3</td>\n",
       "      <td>Young, Wild and Wonderful (1980)</td>\n",
       "      <td>adult</td>\n",
       "      <td>As the bus empties the students for their fie...</td>\n",
       "    </tr>\n",
       "    <tr>\n",
       "      <th>3</th>\n",
       "      <td>4</td>\n",
       "      <td>The Secret Sin (1915)</td>\n",
       "      <td>drama</td>\n",
       "      <td>To help their unemployed father make ends mee...</td>\n",
       "    </tr>\n",
       "    <tr>\n",
       "      <th>4</th>\n",
       "      <td>5</td>\n",
       "      <td>The Unrecovered (2007)</td>\n",
       "      <td>drama</td>\n",
       "      <td>The film's title refers not only to the un-re...</td>\n",
       "    </tr>\n",
       "  </tbody>\n",
       "</table>\n",
       "</div>"
      ],
      "text/plain": [
       "   ID                               Title       Genre  \\\n",
       "0   1       Oscar et la dame rose (2009)       drama    \n",
       "1   2                       Cupid (1997)    thriller    \n",
       "2   3   Young, Wild and Wonderful (1980)       adult    \n",
       "3   4              The Secret Sin (1915)       drama    \n",
       "4   5             The Unrecovered (2007)       drama    \n",
       "\n",
       "                                         Description  \n",
       "0   Listening in to a conversation between his do...  \n",
       "1   A brother and sister with a past incestuous r...  \n",
       "2   As the bus empties the students for their fie...  \n",
       "3   To help their unemployed father make ends mee...  \n",
       "4   The film's title refers not only to the un-re...  "
      ]
     },
     "execution_count": 6,
     "metadata": {},
     "output_type": "execute_result"
    }
   ],
   "source": [
    "train_df.head()"
   ]
  },
  {
   "cell_type": "code",
   "execution_count": 9,
   "id": "ed2402dc-d8b1-417e-97f8-cc9e5ab5fe49",
   "metadata": {},
   "outputs": [
    {
     "data": {
      "text/html": [
       "<div>\n",
       "<style scoped>\n",
       "    .dataframe tbody tr th:only-of-type {\n",
       "        vertical-align: middle;\n",
       "    }\n",
       "\n",
       "    .dataframe tbody tr th {\n",
       "        vertical-align: top;\n",
       "    }\n",
       "\n",
       "    .dataframe thead th {\n",
       "        text-align: right;\n",
       "    }\n",
       "</style>\n",
       "<table border=\"1\" class=\"dataframe\">\n",
       "  <thead>\n",
       "    <tr style=\"text-align: right;\">\n",
       "      <th></th>\n",
       "      <th>ID</th>\n",
       "      <th>Title</th>\n",
       "      <th>Description</th>\n",
       "    </tr>\n",
       "  </thead>\n",
       "  <tbody>\n",
       "    <tr>\n",
       "      <th>0</th>\n",
       "      <td>1</td>\n",
       "      <td>Edgar's Lunch (1998)</td>\n",
       "      <td>L.R. Brane loves his life - his car, his apar...</td>\n",
       "    </tr>\n",
       "    <tr>\n",
       "      <th>1</th>\n",
       "      <td>2</td>\n",
       "      <td>La guerra de papá (1977)</td>\n",
       "      <td>Spain, March 1964: Quico is a very naughty ch...</td>\n",
       "    </tr>\n",
       "    <tr>\n",
       "      <th>2</th>\n",
       "      <td>3</td>\n",
       "      <td>Off the Beaten Track (2010)</td>\n",
       "      <td>One year in the life of Albin and his family ...</td>\n",
       "    </tr>\n",
       "    <tr>\n",
       "      <th>3</th>\n",
       "      <td>4</td>\n",
       "      <td>Meu Amigo Hindu (2015)</td>\n",
       "      <td>His father has died, he hasn't spoken with hi...</td>\n",
       "    </tr>\n",
       "    <tr>\n",
       "      <th>4</th>\n",
       "      <td>5</td>\n",
       "      <td>Er nu zhai (1955)</td>\n",
       "      <td>Before he was known internationally as a mart...</td>\n",
       "    </tr>\n",
       "  </tbody>\n",
       "</table>\n",
       "</div>"
      ],
      "text/plain": [
       "   ID                          Title  \\\n",
       "0   1          Edgar's Lunch (1998)    \n",
       "1   2      La guerra de papá (1977)    \n",
       "2   3   Off the Beaten Track (2010)    \n",
       "3   4        Meu Amigo Hindu (2015)    \n",
       "4   5             Er nu zhai (1955)    \n",
       "\n",
       "                                         Description  \n",
       "0   L.R. Brane loves his life - his car, his apar...  \n",
       "1   Spain, March 1964: Quico is a very naughty ch...  \n",
       "2   One year in the life of Albin and his family ...  \n",
       "3   His father has died, he hasn't spoken with hi...  \n",
       "4   Before he was known internationally as a mart...  "
      ]
     },
     "execution_count": 9,
     "metadata": {},
     "output_type": "execute_result"
    }
   ],
   "source": [
    "test_df.head()"
   ]
  },
  {
   "cell_type": "code",
   "execution_count": 11,
   "id": "3519c87a-f67f-4e80-8e96-13e2c6d4b79c",
   "metadata": {},
   "outputs": [
    {
     "data": {
      "text/html": [
       "<div>\n",
       "<style scoped>\n",
       "    .dataframe tbody tr th:only-of-type {\n",
       "        vertical-align: middle;\n",
       "    }\n",
       "\n",
       "    .dataframe tbody tr th {\n",
       "        vertical-align: top;\n",
       "    }\n",
       "\n",
       "    .dataframe thead th {\n",
       "        text-align: right;\n",
       "    }\n",
       "</style>\n",
       "<table border=\"1\" class=\"dataframe\">\n",
       "  <thead>\n",
       "    <tr style=\"text-align: right;\">\n",
       "      <th></th>\n",
       "      <th>ID</th>\n",
       "      <th>Title</th>\n",
       "      <th>Genre</th>\n",
       "      <th>Description</th>\n",
       "    </tr>\n",
       "  </thead>\n",
       "  <tbody>\n",
       "    <tr>\n",
       "      <th>0</th>\n",
       "      <td>1</td>\n",
       "      <td>Edgar's Lunch (1998)</td>\n",
       "      <td>thriller</td>\n",
       "      <td>L.R. Brane loves his life - his car, his apar...</td>\n",
       "    </tr>\n",
       "    <tr>\n",
       "      <th>1</th>\n",
       "      <td>2</td>\n",
       "      <td>La guerra de papá (1977)</td>\n",
       "      <td>comedy</td>\n",
       "      <td>Spain, March 1964: Quico is a very naughty ch...</td>\n",
       "    </tr>\n",
       "    <tr>\n",
       "      <th>2</th>\n",
       "      <td>3</td>\n",
       "      <td>Off the Beaten Track (2010)</td>\n",
       "      <td>documentary</td>\n",
       "      <td>One year in the life of Albin and his family ...</td>\n",
       "    </tr>\n",
       "    <tr>\n",
       "      <th>3</th>\n",
       "      <td>4</td>\n",
       "      <td>Meu Amigo Hindu (2015)</td>\n",
       "      <td>drama</td>\n",
       "      <td>His father has died, he hasn't spoken with hi...</td>\n",
       "    </tr>\n",
       "    <tr>\n",
       "      <th>4</th>\n",
       "      <td>5</td>\n",
       "      <td>Er nu zhai (1955)</td>\n",
       "      <td>drama</td>\n",
       "      <td>Before he was known internationally as a mart...</td>\n",
       "    </tr>\n",
       "  </tbody>\n",
       "</table>\n",
       "</div>"
      ],
      "text/plain": [
       "   ID                          Title          Genre  \\\n",
       "0   1          Edgar's Lunch (1998)       thriller    \n",
       "1   2      La guerra de papá (1977)         comedy    \n",
       "2   3   Off the Beaten Track (2010)    documentary    \n",
       "3   4        Meu Amigo Hindu (2015)          drama    \n",
       "4   5             Er nu zhai (1955)          drama    \n",
       "\n",
       "                                         Description  \n",
       "0   L.R. Brane loves his life - his car, his apar...  \n",
       "1   Spain, March 1964: Quico is a very naughty ch...  \n",
       "2   One year in the life of Albin and his family ...  \n",
       "3   His father has died, he hasn't spoken with hi...  \n",
       "4   Before he was known internationally as a mart...  "
      ]
     },
     "execution_count": 11,
     "metadata": {},
     "output_type": "execute_result"
    }
   ],
   "source": [
    "test_sol_df.head()"
   ]
  },
  {
   "cell_type": "code",
   "execution_count": 8,
   "id": "13d9d7cb-dbb0-46cc-bbc1-7f29183d77a3",
   "metadata": {},
   "outputs": [
    {
     "data": {
      "text/plain": [
       "Index(['ID', 'Title', 'Genre', 'Description'], dtype='object')"
      ]
     },
     "execution_count": 8,
     "metadata": {},
     "output_type": "execute_result"
    }
   ],
   "source": [
    "train_df.columns\n",
    "test_df.columns\n",
    "test_sol_df.columns"
   ]
  },
  {
   "cell_type": "code",
   "execution_count": 12,
   "id": "47ac0cd9-a3e7-499a-aebe-250edea0c8e2",
   "metadata": {},
   "outputs": [
    {
     "data": {
      "text/plain": [
       "ID             0\n",
       "Title          0\n",
       "Genre          0\n",
       "Description    0\n",
       "dtype: int64"
      ]
     },
     "execution_count": 12,
     "metadata": {},
     "output_type": "execute_result"
    }
   ],
   "source": [
    "train_df.isnull().sum()"
   ]
  },
  {
   "cell_type": "code",
   "execution_count": 13,
   "id": "273bf63a-ab32-4b15-900d-0c4f058515df",
   "metadata": {},
   "outputs": [
    {
     "data": {
      "text/plain": [
       "ID             0\n",
       "Title          0\n",
       "Description    0\n",
       "dtype: int64"
      ]
     },
     "execution_count": 13,
     "metadata": {},
     "output_type": "execute_result"
    }
   ],
   "source": [
    "test_df.isnull().sum()"
   ]
  },
  {
   "cell_type": "code",
   "execution_count": 14,
   "id": "5089cb26-f727-4c8e-a683-110c08b55cb8",
   "metadata": {},
   "outputs": [
    {
     "data": {
      "text/plain": [
       "ID             0\n",
       "Title          0\n",
       "Genre          0\n",
       "Description    0\n",
       "dtype: int64"
      ]
     },
     "execution_count": 14,
     "metadata": {},
     "output_type": "execute_result"
    }
   ],
   "source": [
    "test_sol_df.isnull().sum()"
   ]
  },
  {
   "cell_type": "code",
   "execution_count": 15,
   "id": "951885f0-05fa-4ecf-83ac-3666b16b2ffd",
   "metadata": {},
   "outputs": [],
   "source": [
    "X_train_text = train_df['Description']\n",
    "y_test = test_sol_df['Genre']"
   ]
  },
  {
   "cell_type": "code",
   "execution_count": 16,
   "id": "aae4f136-f20e-4e04-a729-c6c8220977c5",
   "metadata": {},
   "outputs": [
    {
     "data": {
      "text/plain": [
       "54214"
      ]
     },
     "execution_count": 16,
     "metadata": {},
     "output_type": "execute_result"
    }
   ],
   "source": [
    "X_train_text.shape[0]"
   ]
  },
  {
   "cell_type": "code",
   "execution_count": 17,
   "id": "76c27514-7463-403f-8c70-7ed1dc12aae7",
   "metadata": {},
   "outputs": [],
   "source": [
    "X_test_text = test_sol_df['Description']\n",
    "y_train = train_df['Genre']"
   ]
  },
  {
   "cell_type": "code",
   "execution_count": 20,
   "id": "ad1ea229-e42e-4d61-9a47-6fd95739b3c1",
   "metadata": {},
   "outputs": [],
   "source": [
    "lemmatizer = WordNetLemmatizer()\n",
    "stop_words = set(stopwords.words('english'))"
   ]
  },
  {
   "cell_type": "code",
   "execution_count": 21,
   "id": "8109cc95-a7cb-4ead-b0ca-02d28ee2164f",
   "metadata": {},
   "outputs": [],
   "source": [
    "def preprocess_text(text):\n",
    "    if not isinstance(text, str):\n",
    "        return \"\"\n",
    "    text = text.lower()\n",
    "    text = re.sub(r'[^a-z\\s]', '', text)\n",
    "    tokens = nltk.word_tokenize(text)\n",
    "    processed_tokens = [lemmatizer.lemmatize(word) for word in tokens if word not in stop_words and len(word) > 2]\n",
    "    return ' '.join(processed_tokens)"
   ]
  },
  {
   "cell_type": "code",
   "execution_count": 22,
   "id": "abfeb7ea-8f24-4b0c-96f0-4347f2d6ed3a",
   "metadata": {},
   "outputs": [],
   "source": [
    " X_train_processed = X_train_text.apply(preprocess_text)"
   ]
  },
  {
   "cell_type": "code",
   "execution_count": 23,
   "id": "92e72d1e-07ea-499a-bdef-d9a03b3887d1",
   "metadata": {},
   "outputs": [],
   "source": [
    "X_test_processed = X_test_text.apply(preprocess_text)"
   ]
  },
  {
   "cell_type": "code",
   "execution_count": 24,
   "id": "9c398162-e4fe-4587-bb37-6bcfb3dd3e61",
   "metadata": {},
   "outputs": [
    {
     "data": {
      "text/plain": [
       "0    listening conversation doctor parent yearold o...\n",
       "1    brother sister past incestuous relationship cu...\n",
       "2    bus empty student field trip museum natural hi...\n",
       "3    help unemployed father make end meet edith twi...\n",
       "4    film title refers unrecovered body ground zero...\n",
       "Name: Description, dtype: object"
      ]
     },
     "execution_count": 24,
     "metadata": {},
     "output_type": "execute_result"
    }
   ],
   "source": [
    "X_train_processed.head()"
   ]
  },
  {
   "cell_type": "code",
   "execution_count": 25,
   "id": "04c1369c-491c-4c48-8794-63cc6e9e8428",
   "metadata": {},
   "outputs": [
    {
     "name": "stdout",
     "output_type": "stream",
     "text": [
      "Shape of TF-IDF matrix for training data (X_train_tfidf): (54214, 5000)\n",
      "Shape of TF-IDF matrix for test data (X_test_tfidf): (54200, 5000)\n"
     ]
    }
   ],
   "source": [
    "from sklearn.feature_extraction.text import TfidfVectorizer\n",
    "if 'X_train_processed' in locals() and 'X_test_processed' in locals() and X_train_processed is not None and X_test_processed is not None:\n",
    "    tfidf_vectorizer = TfidfVectorizer(max_features=5000, stop_words='english') \n",
    "    X_train_tfidf = tfidf_vectorizer.fit_transform(X_train_processed)\n",
    "    X_test_tfidf = tfidf_vectorizer.transform(X_test_processed)\n",
    "    print(f\"Shape of TF-IDF matrix for training data (X_train_tfidf): {X_train_tfidf.shape}\")\n",
    "    print(f\"Shape of TF-IDF matrix for test data (X_test_tfidf): {X_test_tfidf.shape}\")\n",
    "\n",
    "else:\n",
    "    print(\"\\nError: Processed text data (X_train_processed or X_test_processed) not found or is None. Cannot apply TF-IDF.\")\n",
    "    X_train_tfidf, X_test_tfidf = None, None "
   ]
  },
  {
   "cell_type": "code",
   "execution_count": 26,
   "id": "c373e55a-3053-4660-80f7-7d3c79706eb7",
   "metadata": {},
   "outputs": [
    {
     "name": "stdout",
     "output_type": "stream",
     "text": [
      "\n",
      "Training Multinomial Naive Bayes...\n",
      "Predicting on test data (Naive Bayes)...\n",
      "Multinomial Naive Bayes Accuracy: 0.5224\n",
      "\n",
      "Classification Report (Naive Bayes):\n",
      "                precision    recall  f1-score   support\n",
      "\n",
      "      action        0.53      0.10      0.17      1314\n",
      "       adult        0.51      0.08      0.14       590\n",
      "   adventure        0.79      0.10      0.17       775\n",
      "   animation        0.00      0.00      0.00       498\n",
      "   biography        0.00      0.00      0.00       264\n",
      "      comedy        0.52      0.44      0.48      7446\n",
      "       crime        0.00      0.00      0.00       505\n",
      " documentary        0.57      0.87      0.68     13096\n",
      "       drama        0.46      0.82      0.59     13612\n",
      "      family        0.50      0.00      0.00       783\n",
      "     fantasy        0.00      0.00      0.00       322\n",
      "   game-show        0.98      0.27      0.43       193\n",
      "     history        0.00      0.00      0.00       243\n",
      "      horror        0.69      0.35      0.47      2204\n",
      "       music        0.76      0.15      0.25       731\n",
      "     musical        0.00      0.00      0.00       276\n",
      "     mystery        0.00      0.00      0.00       318\n",
      "        news        0.00      0.00      0.00       181\n",
      "  reality-tv        0.52      0.02      0.03       883\n",
      "     romance        0.00      0.00      0.00       672\n",
      "      sci-fi        0.52      0.04      0.08       646\n",
      "       short        0.57      0.12      0.20      5072\n",
      "       sport        0.80      0.09      0.16       431\n",
      "   talk-show        0.00      0.00      0.00       391\n",
      "    thriller        0.38      0.02      0.04      1590\n",
      "         war        0.00      0.00      0.00       132\n",
      "     western        0.93      0.62      0.75      1032\n",
      "\n",
      "     accuracy                           0.52     54200\n",
      "    macro avg       0.37      0.15      0.17     54200\n",
      " weighted avg       0.51      0.52      0.45     54200\n",
      "\n",
      "\n",
      "Training Logistic Regression...\n",
      "Predicting on test data (Logistic Regression)...\n",
      "Logistic Regression Accuracy: 0.5795\n",
      "\n",
      "Classification Report (Logistic Regression):\n",
      "                precision    recall  f1-score   support\n",
      "\n",
      "      action        0.48      0.26      0.34      1314\n",
      "       adult        0.62      0.22      0.33       590\n",
      "   adventure        0.61      0.17      0.26       775\n",
      "   animation        0.53      0.06      0.11       498\n",
      "   biography        0.00      0.00      0.00       264\n",
      "      comedy        0.53      0.57      0.55      7446\n",
      "       crime        0.35      0.03      0.05       505\n",
      " documentary        0.65      0.85      0.74     13096\n",
      "       drama        0.54      0.78      0.64     13612\n",
      "      family        0.53      0.08      0.14       783\n",
      "     fantasy        0.60      0.05      0.09       322\n",
      "   game-show        0.86      0.51      0.64       193\n",
      "     history        0.00      0.00      0.00       243\n",
      "      horror        0.64      0.57      0.60      2204\n",
      "       music        0.69      0.42      0.52       731\n",
      "     musical        0.24      0.02      0.03       276\n",
      "     mystery        0.33      0.01      0.02       318\n",
      "        news        0.83      0.06      0.10       181\n",
      "  reality-tv        0.53      0.14      0.23       883\n",
      "     romance        0.56      0.01      0.03       672\n",
      "      sci-fi        0.58      0.24      0.34       646\n",
      "       short        0.48      0.31      0.37      5072\n",
      "       sport        0.67      0.23      0.34       431\n",
      "   talk-show        0.62      0.14      0.22       391\n",
      "    thriller        0.39      0.11      0.17      1590\n",
      "         war        1.00      0.02      0.03       132\n",
      "     western        0.89      0.74      0.81      1032\n",
      "\n",
      "     accuracy                           0.58     54200\n",
      "    macro avg       0.55      0.24      0.29     54200\n",
      " weighted avg       0.56      0.58      0.54     54200\n",
      "\n",
      "\n",
      "Training Linear SVM (LinearSVC)...\n",
      "Predicting on test data (Linear SVM)...\n",
      "Linear SVM Accuracy: 0.5711\n",
      "\n",
      "--- Detailed Classification Report for Linear SVM ---\n",
      "               precision    recall  f1-score   support\n",
      "\n",
      "      action        0.39      0.31      0.35      1314\n",
      "       adult        0.54      0.39      0.46       590\n",
      "   adventure        0.41      0.21      0.28       775\n",
      "   animation        0.31      0.15      0.20       498\n",
      "   biography        0.00      0.00      0.00       264\n",
      "      comedy        0.53      0.56      0.54      7446\n",
      "       crime        0.20      0.08      0.11       505\n",
      " documentary        0.68      0.81      0.74     13096\n",
      "       drama        0.57      0.71      0.63     13612\n",
      "      family        0.32      0.15      0.20       783\n",
      "     fantasy        0.27      0.10      0.15       322\n",
      "   game-show        0.79      0.63      0.70       193\n",
      "     history        0.17      0.02      0.04       243\n",
      "      horror        0.58      0.60      0.59      2204\n",
      "       music        0.58      0.50      0.54       731\n",
      "     musical        0.21      0.05      0.08       276\n",
      "     mystery        0.18      0.05      0.07       318\n",
      "        news        0.49      0.12      0.19       181\n",
      "  reality-tv        0.42      0.26      0.32       883\n",
      "     romance        0.23      0.05      0.09       672\n",
      "      sci-fi        0.45      0.33      0.39       646\n",
      "       short        0.43      0.34      0.38      5072\n",
      "       sport        0.54      0.41      0.46       431\n",
      "   talk-show        0.47      0.28      0.35       391\n",
      "    thriller        0.31      0.17      0.22      1590\n",
      "         war        0.44      0.17      0.25       132\n",
      "     western        0.81      0.81      0.81      1032\n",
      "\n",
      "     accuracy                           0.57     54200\n",
      "    macro avg       0.42      0.31      0.34     54200\n",
      " weighted avg       0.54      0.57      0.55     54200\n",
      "\n"
     ]
    }
   ],
   "source": [
    "from sklearn.naive_bayes import MultinomialNB\n",
    "from sklearn.linear_model import LogisticRegression\n",
    "from sklearn.svm import LinearSVC \n",
    "from sklearn.metrics import accuracy_score, classification_report\n",
    "\n",
    "if ('X_train_tfidf' in locals() and 'y_train' in locals() and\n",
    "    'X_test_tfidf' in locals() and 'y_test' in locals() and\n",
    "    X_train_tfidf is not None and X_test_tfidf is not None):\n",
    "\n",
    "    print(\"\\nTraining Multinomial Naive Bayes...\")\n",
    "    nb_classifier = MultinomialNB()\n",
    "    nb_classifier.fit(X_train_tfidf, y_train)\n",
    "\n",
    "    print(\"Predicting on test data (Naive Bayes)...\")\n",
    "    y_pred_nb = nb_classifier.predict(X_test_tfidf)\n",
    "\n",
    "    accuracy_nb = accuracy_score(y_test, y_pred_nb)\n",
    "    print(f\"Multinomial Naive Bayes Accuracy: {accuracy_nb:.4f}\")\n",
    "    print(\"\\nClassification Report (Naive Bayes):\\n\", classification_report(y_test, y_pred_nb, zero_division=0))\n",
    "\n",
    "    print(\"\\nTraining Logistic Regression...\")\n",
    "    lr_classifier = LogisticRegression(max_iter=1000, C=1.0, solver='liblinear', random_state=42)\n",
    "    lr_classifier.fit(X_train_tfidf, y_train)\n",
    "\n",
    "    print(\"Predicting on test data (Logistic Regression)...\")\n",
    "    y_pred_lr = lr_classifier.predict(X_test_tfidf)\n",
    "\n",
    "    accuracy_lr = accuracy_score(y_test, y_pred_lr)\n",
    "    print(f\"Logistic Regression Accuracy: {accuracy_lr:.4f}\")\n",
    "    print(\"\\nClassification Report (Logistic Regression):\\n\", classification_report(y_test, y_pred_lr, zero_division=0))\n",
    "\n",
    "    print(\"\\nTraining Linear SVM (LinearSVC)...\")\n",
    "    svm_classifier = LinearSVC(C=1.0, random_state=42, dual=False, max_iter=1000) \n",
    "    svm_classifier.fit(X_train_tfidf, y_train)\n",
    "\n",
    "    print(\"Predicting on test data (Linear SVM)...\")\n",
    "    y_pred_svm = svm_classifier.predict(X_test_tfidf)\n",
    "\n",
    "    accuracy_svm = accuracy_score(y_test, y_pred_svm)\n",
    "    print(f\"Linear SVM Accuracy: {accuracy_svm:.4f}\")\n",
    "\n",
    "    print(\"\\n--- Detailed Classification Report for Linear SVM ---\")\n",
    "    print(classification_report(y_test, y_pred_svm, zero_division=0))\n",
    "\n",
    "\n",
    "else:\n",
    "    print(\"\\nError: TF-IDF matrices or labels are missing. Cannot train models.\")"
   ]
  }
 ],
 "metadata": {
  "kernelspec": {
   "display_name": "Python 3 (ipykernel)",
   "language": "python",
   "name": "python3"
  },
  "language_info": {
   "codemirror_mode": {
    "name": "ipython",
    "version": 3
   },
   "file_extension": ".py",
   "mimetype": "text/x-python",
   "name": "python",
   "nbconvert_exporter": "python",
   "pygments_lexer": "ipython3",
   "version": "3.12.1"
  }
 },
 "nbformat": 4,
 "nbformat_minor": 5
}
